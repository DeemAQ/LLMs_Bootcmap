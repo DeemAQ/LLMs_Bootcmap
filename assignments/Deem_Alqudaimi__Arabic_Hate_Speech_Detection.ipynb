{
  "nbformat": 4,
  "nbformat_minor": 0,
  "metadata": {
    "colab": {
      "provenance": [],
      "gpuType": "T4"
    },
    "kernelspec": {
      "name": "python3",
      "display_name": "Python 3"
    },
    "accelerator": "GPU"
  },
  "cells": [
    {
      "cell_type": "markdown",
      "metadata": {
        "id": "OlGpLgIaxp9z"
      },
      "source": [
        "#Hate Speech Detection with AraBERT and HuggingFace\n",
        "In this assignment, we will be exploring the application of the AraBERT model specifically for the task of hate speech detection. We will use the AJGT Sentiment Analysis dataset from K. M. Alomari, H. M. ElSherif, and K. Shaalan, “Arabic tweets sentimental analysis using machine learning,” in Proceedings of the International Conference on Industrial, Engineering and Other Applications of Applied Intelligent Systems, pp. 602–610, Montreal, Canada, June 2017.\n"
      ]
    },
    {
      "cell_type": "markdown",
      "metadata": {
        "id": "9JwOAlV5xsGV"
      },
      "source": [
        "# Check which GPU we have"
      ]
    },
    {
      "cell_type": "code",
      "metadata": {
        "id": "krFwQr32xqLv",
        "colab": {
          "base_uri": "https://localhost:8080/"
        },
        "outputId": "102fba95-0886-41a9-9e69-9087814df4d3"
      },
      "source": [
        "import torch\n",
        "\n",
        "# If there's a GPU available...\n",
        "if torch.cuda.is_available():\n",
        "\n",
        "    # Tell PyTorch to use the GPU.\n",
        "    device = torch.device(\"cuda\")\n",
        "\n",
        "    print('There are %d GPU(s) available.' % torch.cuda.device_count())\n",
        "\n",
        "    print('We will use the GPU:', torch.cuda.get_device_name(0))\n",
        "    !nvidia-smi\n",
        "\n",
        "# If not...\n",
        "else:\n",
        "    print('No GPU available, using the CPU instead.')\n",
        "    device = torch.device(\"cpu\")"
      ],
      "execution_count": 62,
      "outputs": [
        {
          "output_type": "stream",
          "name": "stdout",
          "text": [
            "There are 1 GPU(s) available.\n",
            "We will use the GPU: Tesla T4\n",
            "Thu Dec 28 11:26:23 2023       \n",
            "+---------------------------------------------------------------------------------------+\n",
            "| NVIDIA-SMI 535.104.05             Driver Version: 535.104.05   CUDA Version: 12.2     |\n",
            "|-----------------------------------------+----------------------+----------------------+\n",
            "| GPU  Name                 Persistence-M | Bus-Id        Disp.A | Volatile Uncorr. ECC |\n",
            "| Fan  Temp   Perf          Pwr:Usage/Cap |         Memory-Usage | GPU-Util  Compute M. |\n",
            "|                                         |                      |               MIG M. |\n",
            "|=========================================+======================+======================|\n",
            "|   0  Tesla T4                       Off | 00000000:00:04.0 Off |                    0 |\n",
            "| N/A   73C    P0              33W /  70W |   3957MiB / 15360MiB |      0%      Default |\n",
            "|                                         |                      |                  N/A |\n",
            "+-----------------------------------------+----------------------+----------------------+\n",
            "                                                                                         \n",
            "+---------------------------------------------------------------------------------------+\n",
            "| Processes:                                                                            |\n",
            "|  GPU   GI   CI        PID   Type   Process name                            GPU Memory |\n",
            "|        ID   ID                                                             Usage      |\n",
            "|=======================================================================================|\n",
            "+---------------------------------------------------------------------------------------+\n"
          ]
        }
      ]
    },
    {
      "cell_type": "markdown",
      "metadata": {
        "id": "zd6vAHTei6PQ"
      },
      "source": [
        "##Installing Prerequisites"
      ]
    },
    {
      "cell_type": "code",
      "metadata": {
        "id": "ohWiDLEnxJA5",
        "colab": {
          "base_uri": "https://localhost:8080/"
        },
        "outputId": "fe7e3168-b121-45bb-b890-c63440275a30"
      },
      "source": [
        "!pip install transformers[torch]\n",
        "!pip install farasapy\n",
        "!pip install pyarabic\n",
        "!git clone https://github.com/aub-mind/arabert"
      ],
      "execution_count": 63,
      "outputs": [
        {
          "output_type": "stream",
          "name": "stdout",
          "text": [
            "Requirement already satisfied: transformers[torch] in /usr/local/lib/python3.10/dist-packages (4.35.2)\n",
            "Requirement already satisfied: filelock in /usr/local/lib/python3.10/dist-packages (from transformers[torch]) (3.13.1)\n",
            "Requirement already satisfied: huggingface-hub<1.0,>=0.16.4 in /usr/local/lib/python3.10/dist-packages (from transformers[torch]) (0.19.4)\n",
            "Requirement already satisfied: numpy>=1.17 in /usr/local/lib/python3.10/dist-packages (from transformers[torch]) (1.23.5)\n",
            "Requirement already satisfied: packaging>=20.0 in /usr/local/lib/python3.10/dist-packages (from transformers[torch]) (23.2)\n",
            "Requirement already satisfied: pyyaml>=5.1 in /usr/local/lib/python3.10/dist-packages (from transformers[torch]) (6.0.1)\n",
            "Requirement already satisfied: regex!=2019.12.17 in /usr/local/lib/python3.10/dist-packages (from transformers[torch]) (2023.6.3)\n",
            "Requirement already satisfied: requests in /usr/local/lib/python3.10/dist-packages (from transformers[torch]) (2.31.0)\n",
            "Requirement already satisfied: tokenizers<0.19,>=0.14 in /usr/local/lib/python3.10/dist-packages (from transformers[torch]) (0.15.0)\n",
            "Requirement already satisfied: safetensors>=0.3.1 in /usr/local/lib/python3.10/dist-packages (from transformers[torch]) (0.4.1)\n",
            "Requirement already satisfied: tqdm>=4.27 in /usr/local/lib/python3.10/dist-packages (from transformers[torch]) (4.66.1)\n",
            "Requirement already satisfied: torch!=1.12.0,>=1.10 in /usr/local/lib/python3.10/dist-packages (from transformers[torch]) (2.1.0+cu121)\n",
            "Requirement already satisfied: accelerate>=0.20.3 in /usr/local/lib/python3.10/dist-packages (from transformers[torch]) (0.25.0)\n",
            "Requirement already satisfied: psutil in /usr/local/lib/python3.10/dist-packages (from accelerate>=0.20.3->transformers[torch]) (5.9.5)\n",
            "Requirement already satisfied: fsspec>=2023.5.0 in /usr/local/lib/python3.10/dist-packages (from huggingface-hub<1.0,>=0.16.4->transformers[torch]) (2023.6.0)\n",
            "Requirement already satisfied: typing-extensions>=3.7.4.3 in /usr/local/lib/python3.10/dist-packages (from huggingface-hub<1.0,>=0.16.4->transformers[torch]) (4.5.0)\n",
            "Requirement already satisfied: sympy in /usr/local/lib/python3.10/dist-packages (from torch!=1.12.0,>=1.10->transformers[torch]) (1.12)\n",
            "Requirement already satisfied: networkx in /usr/local/lib/python3.10/dist-packages (from torch!=1.12.0,>=1.10->transformers[torch]) (3.2.1)\n",
            "Requirement already satisfied: jinja2 in /usr/local/lib/python3.10/dist-packages (from torch!=1.12.0,>=1.10->transformers[torch]) (3.1.2)\n",
            "Requirement already satisfied: triton==2.1.0 in /usr/local/lib/python3.10/dist-packages (from torch!=1.12.0,>=1.10->transformers[torch]) (2.1.0)\n",
            "Requirement already satisfied: charset-normalizer<4,>=2 in /usr/local/lib/python3.10/dist-packages (from requests->transformers[torch]) (3.3.2)\n",
            "Requirement already satisfied: idna<4,>=2.5 in /usr/local/lib/python3.10/dist-packages (from requests->transformers[torch]) (3.6)\n",
            "Requirement already satisfied: urllib3<3,>=1.21.1 in /usr/local/lib/python3.10/dist-packages (from requests->transformers[torch]) (2.0.7)\n",
            "Requirement already satisfied: certifi>=2017.4.17 in /usr/local/lib/python3.10/dist-packages (from requests->transformers[torch]) (2023.11.17)\n",
            "Requirement already satisfied: MarkupSafe>=2.0 in /usr/local/lib/python3.10/dist-packages (from jinja2->torch!=1.12.0,>=1.10->transformers[torch]) (2.1.3)\n",
            "Requirement already satisfied: mpmath>=0.19 in /usr/local/lib/python3.10/dist-packages (from sympy->torch!=1.12.0,>=1.10->transformers[torch]) (1.3.0)\n",
            "Requirement already satisfied: farasapy in /usr/local/lib/python3.10/dist-packages (0.0.14)\n",
            "Requirement already satisfied: requests in /usr/local/lib/python3.10/dist-packages (from farasapy) (2.31.0)\n",
            "Requirement already satisfied: tqdm in /usr/local/lib/python3.10/dist-packages (from farasapy) (4.66.1)\n",
            "Requirement already satisfied: charset-normalizer<4,>=2 in /usr/local/lib/python3.10/dist-packages (from requests->farasapy) (3.3.2)\n",
            "Requirement already satisfied: idna<4,>=2.5 in /usr/local/lib/python3.10/dist-packages (from requests->farasapy) (3.6)\n",
            "Requirement already satisfied: urllib3<3,>=1.21.1 in /usr/local/lib/python3.10/dist-packages (from requests->farasapy) (2.0.7)\n",
            "Requirement already satisfied: certifi>=2017.4.17 in /usr/local/lib/python3.10/dist-packages (from requests->farasapy) (2023.11.17)\n",
            "Requirement already satisfied: pyarabic in /usr/local/lib/python3.10/dist-packages (0.6.15)\n",
            "Requirement already satisfied: six>=1.14.0 in /usr/local/lib/python3.10/dist-packages (from pyarabic) (1.16.0)\n",
            "fatal: destination path 'arabert' already exists and is not an empty directory.\n"
          ]
        }
      ]
    },
    {
      "cell_type": "markdown",
      "metadata": {
        "id": "yFxAnGMIx1qG"
      },
      "source": [
        "#Reading Data\n",
        "We will rely on the following libraries for training and evaluation:"
      ]
    },
    {
      "cell_type": "code",
      "metadata": {
        "id": "Fl-z0SH0gR_C"
      },
      "source": [
        "import numpy as np\n",
        "import pandas as pd\n",
        "from sklearn.model_selection import train_test_split\n",
        "import matplotlib.pyplot as plt"
      ],
      "execution_count": 64,
      "outputs": []
    },
    {
      "cell_type": "code",
      "source": [
        "!git clone https://github.com/komari6/Arabic-twitter-corpus-AJGT.git"
      ],
      "metadata": {
        "id": "VBYk072elB84",
        "colab": {
          "base_uri": "https://localhost:8080/"
        },
        "outputId": "0fcda9c0-5e3d-4bba-aa01-a0a8fc957dc7"
      },
      "execution_count": 65,
      "outputs": [
        {
          "output_type": "stream",
          "name": "stdout",
          "text": [
            "fatal: destination path 'Arabic-twitter-corpus-AJGT' already exists and is not an empty directory.\n"
          ]
        }
      ]
    },
    {
      "cell_type": "markdown",
      "source": [
        "**Question 1:** Read the dataset and arrange the columns name using the set variables:"
      ],
      "metadata": {
        "id": "8T1UM7HcoQkm"
      }
    },
    {
      "cell_type": "code",
      "metadata": {
        "id": "nKFr-GcJjXEE",
        "colab": {
          "base_uri": "https://localhost:8080/",
          "height": 424
        },
        "outputId": "6e6473e0-b930-418c-9949-70500e495b51"
      },
      "source": [
        "DATA_COLUMN = 'text'\n",
        "LABEL_COLUMN = 'label'\n",
        "\n",
        "dataset = pd.read_excel(\"Arabic-twitter-corpus-AJGT/AJGT.xlsx\").rename(columns={'Feed': DATA_COLUMN, 'Sentiment': LABEL_COLUMN})\n",
        "dataset"
      ],
      "execution_count": 66,
      "outputs": [
        {
          "output_type": "execute_result",
          "data": {
            "text/plain": [
              "        ID                                               text     label\n",
              "0        1   اربد فيها جامعات اكثر من عمان ... وفيها قد عم...  Positive\n",
              "1        2   الحلو انكم بتحكوا على اساس انو الاردن ما فيه ...  Negative\n",
              "2        3                            كله رائع بجد ربنا يكرمك  Positive\n",
              "3        4                                 لسانك قذر يا قمامه  Negative\n",
              "4        5  ​انا داشره وغير متزوجه ولدي علاقات مشبوه واحشش...  Negative\n",
              "...    ...                                                ...       ...\n",
              "1795  1796                                     يلعن شرف خواتك  Negative\n",
              "1796  1797                                     يلعنك نذل وكلب  Negative\n",
              "1797  1798  يمتاز الاردن بتنوع السياحه فيه فتنقسم السياحه ...  Positive\n",
              "1798  1799                          ينور عليك ويكثر من امثالك  Positive\n",
              "1799  1800                                  يهدي الله من يشاء  Positive\n",
              "\n",
              "[1800 rows x 3 columns]"
            ],
            "text/html": [
              "\n",
              "  <div id=\"df-0e55c520-e184-47b2-bc95-463dbc12fa3b\" class=\"colab-df-container\">\n",
              "    <div>\n",
              "<style scoped>\n",
              "    .dataframe tbody tr th:only-of-type {\n",
              "        vertical-align: middle;\n",
              "    }\n",
              "\n",
              "    .dataframe tbody tr th {\n",
              "        vertical-align: top;\n",
              "    }\n",
              "\n",
              "    .dataframe thead th {\n",
              "        text-align: right;\n",
              "    }\n",
              "</style>\n",
              "<table border=\"1\" class=\"dataframe\">\n",
              "  <thead>\n",
              "    <tr style=\"text-align: right;\">\n",
              "      <th></th>\n",
              "      <th>ID</th>\n",
              "      <th>text</th>\n",
              "      <th>label</th>\n",
              "    </tr>\n",
              "  </thead>\n",
              "  <tbody>\n",
              "    <tr>\n",
              "      <th>0</th>\n",
              "      <td>1</td>\n",
              "      <td>اربد فيها جامعات اكثر من عمان ... وفيها قد عم...</td>\n",
              "      <td>Positive</td>\n",
              "    </tr>\n",
              "    <tr>\n",
              "      <th>1</th>\n",
              "      <td>2</td>\n",
              "      <td>الحلو انكم بتحكوا على اساس انو الاردن ما فيه ...</td>\n",
              "      <td>Negative</td>\n",
              "    </tr>\n",
              "    <tr>\n",
              "      <th>2</th>\n",
              "      <td>3</td>\n",
              "      <td>كله رائع بجد ربنا يكرمك</td>\n",
              "      <td>Positive</td>\n",
              "    </tr>\n",
              "    <tr>\n",
              "      <th>3</th>\n",
              "      <td>4</td>\n",
              "      <td>لسانك قذر يا قمامه</td>\n",
              "      <td>Negative</td>\n",
              "    </tr>\n",
              "    <tr>\n",
              "      <th>4</th>\n",
              "      <td>5</td>\n",
              "      <td>​انا داشره وغير متزوجه ولدي علاقات مشبوه واحشش...</td>\n",
              "      <td>Negative</td>\n",
              "    </tr>\n",
              "    <tr>\n",
              "      <th>...</th>\n",
              "      <td>...</td>\n",
              "      <td>...</td>\n",
              "      <td>...</td>\n",
              "    </tr>\n",
              "    <tr>\n",
              "      <th>1795</th>\n",
              "      <td>1796</td>\n",
              "      <td>يلعن شرف خواتك</td>\n",
              "      <td>Negative</td>\n",
              "    </tr>\n",
              "    <tr>\n",
              "      <th>1796</th>\n",
              "      <td>1797</td>\n",
              "      <td>يلعنك نذل وكلب</td>\n",
              "      <td>Negative</td>\n",
              "    </tr>\n",
              "    <tr>\n",
              "      <th>1797</th>\n",
              "      <td>1798</td>\n",
              "      <td>يمتاز الاردن بتنوع السياحه فيه فتنقسم السياحه ...</td>\n",
              "      <td>Positive</td>\n",
              "    </tr>\n",
              "    <tr>\n",
              "      <th>1798</th>\n",
              "      <td>1799</td>\n",
              "      <td>ينور عليك ويكثر من امثالك</td>\n",
              "      <td>Positive</td>\n",
              "    </tr>\n",
              "    <tr>\n",
              "      <th>1799</th>\n",
              "      <td>1800</td>\n",
              "      <td>يهدي الله من يشاء</td>\n",
              "      <td>Positive</td>\n",
              "    </tr>\n",
              "  </tbody>\n",
              "</table>\n",
              "<p>1800 rows × 3 columns</p>\n",
              "</div>\n",
              "    <div class=\"colab-df-buttons\">\n",
              "\n",
              "  <div class=\"colab-df-container\">\n",
              "    <button class=\"colab-df-convert\" onclick=\"convertToInteractive('df-0e55c520-e184-47b2-bc95-463dbc12fa3b')\"\n",
              "            title=\"Convert this dataframe to an interactive table.\"\n",
              "            style=\"display:none;\">\n",
              "\n",
              "  <svg xmlns=\"http://www.w3.org/2000/svg\" height=\"24px\" viewBox=\"0 -960 960 960\">\n",
              "    <path d=\"M120-120v-720h720v720H120Zm60-500h600v-160H180v160Zm220 220h160v-160H400v160Zm0 220h160v-160H400v160ZM180-400h160v-160H180v160Zm440 0h160v-160H620v160ZM180-180h160v-160H180v160Zm440 0h160v-160H620v160Z\"/>\n",
              "  </svg>\n",
              "    </button>\n",
              "\n",
              "  <style>\n",
              "    .colab-df-container {\n",
              "      display:flex;\n",
              "      gap: 12px;\n",
              "    }\n",
              "\n",
              "    .colab-df-convert {\n",
              "      background-color: #E8F0FE;\n",
              "      border: none;\n",
              "      border-radius: 50%;\n",
              "      cursor: pointer;\n",
              "      display: none;\n",
              "      fill: #1967D2;\n",
              "      height: 32px;\n",
              "      padding: 0 0 0 0;\n",
              "      width: 32px;\n",
              "    }\n",
              "\n",
              "    .colab-df-convert:hover {\n",
              "      background-color: #E2EBFA;\n",
              "      box-shadow: 0px 1px 2px rgba(60, 64, 67, 0.3), 0px 1px 3px 1px rgba(60, 64, 67, 0.15);\n",
              "      fill: #174EA6;\n",
              "    }\n",
              "\n",
              "    .colab-df-buttons div {\n",
              "      margin-bottom: 4px;\n",
              "    }\n",
              "\n",
              "    [theme=dark] .colab-df-convert {\n",
              "      background-color: #3B4455;\n",
              "      fill: #D2E3FC;\n",
              "    }\n",
              "\n",
              "    [theme=dark] .colab-df-convert:hover {\n",
              "      background-color: #434B5C;\n",
              "      box-shadow: 0px 1px 3px 1px rgba(0, 0, 0, 0.15);\n",
              "      filter: drop-shadow(0px 1px 2px rgba(0, 0, 0, 0.3));\n",
              "      fill: #FFFFFF;\n",
              "    }\n",
              "  </style>\n",
              "\n",
              "    <script>\n",
              "      const buttonEl =\n",
              "        document.querySelector('#df-0e55c520-e184-47b2-bc95-463dbc12fa3b button.colab-df-convert');\n",
              "      buttonEl.style.display =\n",
              "        google.colab.kernel.accessAllowed ? 'block' : 'none';\n",
              "\n",
              "      async function convertToInteractive(key) {\n",
              "        const element = document.querySelector('#df-0e55c520-e184-47b2-bc95-463dbc12fa3b');\n",
              "        const dataTable =\n",
              "          await google.colab.kernel.invokeFunction('convertToInteractive',\n",
              "                                                    [key], {});\n",
              "        if (!dataTable) return;\n",
              "\n",
              "        const docLinkHtml = 'Like what you see? Visit the ' +\n",
              "          '<a target=\"_blank\" href=https://colab.research.google.com/notebooks/data_table.ipynb>data table notebook</a>'\n",
              "          + ' to learn more about interactive tables.';\n",
              "        element.innerHTML = '';\n",
              "        dataTable['output_type'] = 'display_data';\n",
              "        await google.colab.output.renderOutput(dataTable, element);\n",
              "        const docLink = document.createElement('div');\n",
              "        docLink.innerHTML = docLinkHtml;\n",
              "        element.appendChild(docLink);\n",
              "      }\n",
              "    </script>\n",
              "  </div>\n",
              "\n",
              "\n",
              "<div id=\"df-d344ef30-20f3-4f86-8a12-e5a2a5ea838b\">\n",
              "  <button class=\"colab-df-quickchart\" onclick=\"quickchart('df-d344ef30-20f3-4f86-8a12-e5a2a5ea838b')\"\n",
              "            title=\"Suggest charts\"\n",
              "            style=\"display:none;\">\n",
              "\n",
              "<svg xmlns=\"http://www.w3.org/2000/svg\" height=\"24px\"viewBox=\"0 0 24 24\"\n",
              "     width=\"24px\">\n",
              "    <g>\n",
              "        <path d=\"M19 3H5c-1.1 0-2 .9-2 2v14c0 1.1.9 2 2 2h14c1.1 0 2-.9 2-2V5c0-1.1-.9-2-2-2zM9 17H7v-7h2v7zm4 0h-2V7h2v10zm4 0h-2v-4h2v4z\"/>\n",
              "    </g>\n",
              "</svg>\n",
              "  </button>\n",
              "\n",
              "<style>\n",
              "  .colab-df-quickchart {\n",
              "      --bg-color: #E8F0FE;\n",
              "      --fill-color: #1967D2;\n",
              "      --hover-bg-color: #E2EBFA;\n",
              "      --hover-fill-color: #174EA6;\n",
              "      --disabled-fill-color: #AAA;\n",
              "      --disabled-bg-color: #DDD;\n",
              "  }\n",
              "\n",
              "  [theme=dark] .colab-df-quickchart {\n",
              "      --bg-color: #3B4455;\n",
              "      --fill-color: #D2E3FC;\n",
              "      --hover-bg-color: #434B5C;\n",
              "      --hover-fill-color: #FFFFFF;\n",
              "      --disabled-bg-color: #3B4455;\n",
              "      --disabled-fill-color: #666;\n",
              "  }\n",
              "\n",
              "  .colab-df-quickchart {\n",
              "    background-color: var(--bg-color);\n",
              "    border: none;\n",
              "    border-radius: 50%;\n",
              "    cursor: pointer;\n",
              "    display: none;\n",
              "    fill: var(--fill-color);\n",
              "    height: 32px;\n",
              "    padding: 0;\n",
              "    width: 32px;\n",
              "  }\n",
              "\n",
              "  .colab-df-quickchart:hover {\n",
              "    background-color: var(--hover-bg-color);\n",
              "    box-shadow: 0 1px 2px rgba(60, 64, 67, 0.3), 0 1px 3px 1px rgba(60, 64, 67, 0.15);\n",
              "    fill: var(--button-hover-fill-color);\n",
              "  }\n",
              "\n",
              "  .colab-df-quickchart-complete:disabled,\n",
              "  .colab-df-quickchart-complete:disabled:hover {\n",
              "    background-color: var(--disabled-bg-color);\n",
              "    fill: var(--disabled-fill-color);\n",
              "    box-shadow: none;\n",
              "  }\n",
              "\n",
              "  .colab-df-spinner {\n",
              "    border: 2px solid var(--fill-color);\n",
              "    border-color: transparent;\n",
              "    border-bottom-color: var(--fill-color);\n",
              "    animation:\n",
              "      spin 1s steps(1) infinite;\n",
              "  }\n",
              "\n",
              "  @keyframes spin {\n",
              "    0% {\n",
              "      border-color: transparent;\n",
              "      border-bottom-color: var(--fill-color);\n",
              "      border-left-color: var(--fill-color);\n",
              "    }\n",
              "    20% {\n",
              "      border-color: transparent;\n",
              "      border-left-color: var(--fill-color);\n",
              "      border-top-color: var(--fill-color);\n",
              "    }\n",
              "    30% {\n",
              "      border-color: transparent;\n",
              "      border-left-color: var(--fill-color);\n",
              "      border-top-color: var(--fill-color);\n",
              "      border-right-color: var(--fill-color);\n",
              "    }\n",
              "    40% {\n",
              "      border-color: transparent;\n",
              "      border-right-color: var(--fill-color);\n",
              "      border-top-color: var(--fill-color);\n",
              "    }\n",
              "    60% {\n",
              "      border-color: transparent;\n",
              "      border-right-color: var(--fill-color);\n",
              "    }\n",
              "    80% {\n",
              "      border-color: transparent;\n",
              "      border-right-color: var(--fill-color);\n",
              "      border-bottom-color: var(--fill-color);\n",
              "    }\n",
              "    90% {\n",
              "      border-color: transparent;\n",
              "      border-bottom-color: var(--fill-color);\n",
              "    }\n",
              "  }\n",
              "</style>\n",
              "\n",
              "  <script>\n",
              "    async function quickchart(key) {\n",
              "      const quickchartButtonEl =\n",
              "        document.querySelector('#' + key + ' button');\n",
              "      quickchartButtonEl.disabled = true;  // To prevent multiple clicks.\n",
              "      quickchartButtonEl.classList.add('colab-df-spinner');\n",
              "      try {\n",
              "        const charts = await google.colab.kernel.invokeFunction(\n",
              "            'suggestCharts', [key], {});\n",
              "      } catch (error) {\n",
              "        console.error('Error during call to suggestCharts:', error);\n",
              "      }\n",
              "      quickchartButtonEl.classList.remove('colab-df-spinner');\n",
              "      quickchartButtonEl.classList.add('colab-df-quickchart-complete');\n",
              "    }\n",
              "    (() => {\n",
              "      let quickchartButtonEl =\n",
              "        document.querySelector('#df-d344ef30-20f3-4f86-8a12-e5a2a5ea838b button');\n",
              "      quickchartButtonEl.style.display =\n",
              "        google.colab.kernel.accessAllowed ? 'block' : 'none';\n",
              "    })();\n",
              "  </script>\n",
              "</div>\n",
              "\n",
              "  <div id=\"id_2cd7a3d7-7c68-4ffd-a9aa-3409b1136b8b\">\n",
              "    <style>\n",
              "      .colab-df-generate {\n",
              "        background-color: #E8F0FE;\n",
              "        border: none;\n",
              "        border-radius: 50%;\n",
              "        cursor: pointer;\n",
              "        display: none;\n",
              "        fill: #1967D2;\n",
              "        height: 32px;\n",
              "        padding: 0 0 0 0;\n",
              "        width: 32px;\n",
              "      }\n",
              "\n",
              "      .colab-df-generate:hover {\n",
              "        background-color: #E2EBFA;\n",
              "        box-shadow: 0px 1px 2px rgba(60, 64, 67, 0.3), 0px 1px 3px 1px rgba(60, 64, 67, 0.15);\n",
              "        fill: #174EA6;\n",
              "      }\n",
              "\n",
              "      [theme=dark] .colab-df-generate {\n",
              "        background-color: #3B4455;\n",
              "        fill: #D2E3FC;\n",
              "      }\n",
              "\n",
              "      [theme=dark] .colab-df-generate:hover {\n",
              "        background-color: #434B5C;\n",
              "        box-shadow: 0px 1px 3px 1px rgba(0, 0, 0, 0.15);\n",
              "        filter: drop-shadow(0px 1px 2px rgba(0, 0, 0, 0.3));\n",
              "        fill: #FFFFFF;\n",
              "      }\n",
              "    </style>\n",
              "    <button class=\"colab-df-generate\" onclick=\"generateWithVariable('dataset')\"\n",
              "            title=\"Generate code using this dataframe.\"\n",
              "            style=\"display:none;\">\n",
              "\n",
              "  <svg xmlns=\"http://www.w3.org/2000/svg\" height=\"24px\"viewBox=\"0 0 24 24\"\n",
              "       width=\"24px\">\n",
              "    <path d=\"M7,19H8.4L18.45,9,17,7.55,7,17.6ZM5,21V16.75L18.45,3.32a2,2,0,0,1,2.83,0l1.4,1.43a1.91,1.91,0,0,1,.58,1.4,1.91,1.91,0,0,1-.58,1.4L9.25,21ZM18.45,9,17,7.55Zm-12,3A5.31,5.31,0,0,0,4.9,8.1,5.31,5.31,0,0,0,1,6.5,5.31,5.31,0,0,0,4.9,4.9,5.31,5.31,0,0,0,6.5,1,5.31,5.31,0,0,0,8.1,4.9,5.31,5.31,0,0,0,12,6.5,5.46,5.46,0,0,0,6.5,12Z\"/>\n",
              "  </svg>\n",
              "    </button>\n",
              "    <script>\n",
              "      (() => {\n",
              "      const buttonEl =\n",
              "        document.querySelector('#id_2cd7a3d7-7c68-4ffd-a9aa-3409b1136b8b button.colab-df-generate');\n",
              "      buttonEl.style.display =\n",
              "        google.colab.kernel.accessAllowed ? 'block' : 'none';\n",
              "\n",
              "      buttonEl.onclick = () => {\n",
              "        google.colab.notebook.generateWithVariable('dataset');\n",
              "      }\n",
              "      })();\n",
              "    </script>\n",
              "  </div>\n",
              "\n",
              "    </div>\n",
              "  </div>\n"
            ]
          },
          "metadata": {},
          "execution_count": 66
        }
      ]
    },
    {
      "cell_type": "markdown",
      "source": [
        "**Question 2**: Split the data into training and testing (80-20)"
      ],
      "metadata": {
        "id": "K_zISEpsoOjs"
      }
    },
    {
      "cell_type": "code",
      "metadata": {
        "id": "QFnvKJpojo2y"
      },
      "source": [
        "data_train, data_test = train_test_split(dataset, train_size=0.8, random_state=42)"
      ],
      "execution_count": 67,
      "outputs": []
    },
    {
      "cell_type": "markdown",
      "metadata": {
        "id": "GWF1oSY_jglL"
      },
      "source": [
        "**Question 3:** Plot the distribution of lengths of sentences in both training and test set. Extract the max_len value to be used later:"
      ]
    },
    {
      "cell_type": "code",
      "metadata": {
        "id": "5seZqZp-cWK7",
        "colab": {
          "base_uri": "https://localhost:8080/",
          "height": 452
        },
        "outputId": "9f20a00c-e271-453d-ef8e-777593236ba1"
      },
      "source": [
        "train_sentence_length = data_train[\"text\"].apply(lambda x: len(x.split()))\n",
        "test_sentence_length = data_test[\"text\"].apply(lambda x: len(x.split()))\n",
        "\n",
        "plt.hist(train_sentence_length, label=\"Training Set\")\n",
        "plt.hist(test_sentence_length, label=\"Test Set\")\n",
        "plt.title(\"Distribution of Lengths of Sentences in Training and Test Sets\")\n",
        "plt.legend();"
      ],
      "execution_count": 68,
      "outputs": [
        {
          "output_type": "display_data",
          "data": {
            "text/plain": [
              "<Figure size 640x480 with 1 Axes>"
            ],
            "image/png": "[encoded data removed]"
          },
          "metadata": {}
        }
      ]
    },
    {
      "cell_type": "code",
      "source": [
        "max_len = max(train_sentence_length.max(), test_sentence_length.max())\n",
        "max_len"
      ],
      "metadata": {
        "colab": {
          "base_uri": "https://localhost:8080/"
        },
        "id": "B8hsUy8ZAtrO",
        "outputId": "60deeec7-2967-4990-bdcd-8911c8693ee8"
      },
      "execution_count": 69,
      "outputs": [
        {
          "output_type": "execute_result",
          "data": {
            "text/plain": [
              "143"
            ]
          },
          "metadata": {},
          "execution_count": 69
        }
      ]
    },
    {
      "cell_type": "markdown",
      "source": [
        "We can conclude that the max_len can be chosen to be ___."
      ],
      "metadata": {
        "id": "2Gozk8y2p1os"
      }
    },
    {
      "cell_type": "markdown",
      "metadata": {
        "id": "ULbvRAH24w11"
      },
      "source": [
        "#Training Requirements"
      ]
    },
    {
      "cell_type": "markdown",
      "source": [
        "Let's start by creating the dataset needed for training and testing, we will use the Dataset class from pytorch as our base class.\n",
        "\n",
        "For tokenization, we will be using the autotokenizer from HuggingFace."
      ],
      "metadata": {
        "id": "POaAvq9NtKHl"
      }
    },
    {
      "cell_type": "code",
      "metadata": {
        "id": "rHazBYgbAugR"
      },
      "source": [
        "import torch\n",
        "from torch.utils.data import Dataset\n",
        "from torch.utils.data import DataLoader\n",
        "\n",
        "from transformers.data.processors.utils import InputFeatures\n",
        "from transformers import AutoTokenizer\n",
        "\n",
        "#define the Dataset class\n",
        "class SADataset(Dataset):\n",
        "  def __init__(self, texts, labels, model_name, max_len, label_map):\n",
        "    #hold the text and reviews inside the dataset class\n",
        "    self.texts = texts\n",
        "    self.labels = labels\n",
        "    self.label_map = label_map\n",
        "    self.tokenizer_name = model_name\n",
        "    self.tokenizer = AutoTokenizer.from_pretrained(model_name)\n",
        "    self.max_len = max_len\n",
        "\n",
        "  def __len__(self):\n",
        "    #returns the length of the dataset\n",
        "    return len(self.texts)\n",
        "\n",
        "  def __getitem__(self, item):\n",
        "    # Select the example based on the item ID\n",
        "    text = str(self.texts[item])\n",
        "    label = self.labels[item]\n",
        "\n",
        "    input_dict = self.tokenizer(\n",
        "          text,\n",
        "          add_special_tokens=True,\n",
        "          max_length=self.max_len,\n",
        "          padding = 'max_length',\n",
        "          truncation= True\n",
        "      )\n",
        "\n",
        "    return InputFeatures(input_ids=input_dict[\"input_ids\"],\n",
        "                         token_type_ids=input_dict['token_type_ids'],\n",
        "                         attention_mask=input_dict[\"attention_mask\"],\n",
        "                         label=self.label_map[self.labels[item]])"
      ],
      "execution_count": 70,
      "outputs": []
    },
    {
      "cell_type": "markdown",
      "source": [
        "**Question 4:** Define the evaluation metrics that we will need, including `accuracy_score`, `f1_score`, `precision_score` and `recall_score` from sklearn."
      ],
      "metadata": {
        "id": "5A70UoelxyYO"
      }
    },
    {
      "cell_type": "code",
      "metadata": {
        "id": "DGPOnvGZRlVT"
      },
      "source": [
        "from sklearn.metrics import accuracy_score, f1_score, precision_score, recall_score\n",
        "\n",
        "\n",
        "def compute_metrics(pred):\n",
        "  preds = np.argmax(pred.predictions, axis=1)\n",
        "  assert len(preds) == len(pred.label_ids)\n",
        "\n",
        "  labels = pred.label_ids\n",
        "\n",
        "  acc = accuracy_score(labels, preds)\n",
        "  macro_f1 = f1_score(labels, preds, average='macro')\n",
        "  macro_f1_pos_neg = f1_score(labels, preds, average='macro', labels=[\"Positive\", \"Negative\"])\n",
        "  macro_precision = precision_score(labels, preds, average='macro')\n",
        "  macro_recall = recall_score(labels, preds, average='macro')\n",
        "\n",
        "\n",
        "  return {\n",
        "      'macro_f1' : macro_f1,\n",
        "      'macro_f1_pos_neg' : macro_f1_pos_neg,\n",
        "      'macro_precision': macro_precision,\n",
        "      'macro_recall': macro_recall,\n",
        "      'accuracy': acc\n",
        "  }"
      ],
      "execution_count": 71,
      "outputs": []
    },
    {
      "cell_type": "markdown",
      "metadata": {
        "id": "bcjtO-0N0u98"
      },
      "source": [
        "## Preprocess the dataset\n",
        "Let's start by defining the AraBERT preprocessor:"
      ]
    },
    {
      "cell_type": "code",
      "metadata": {
        "id": "xbMtdGpB0t3w"
      },
      "source": [
        "from arabert.preprocess import ArabertPreprocessor\n",
        "\n",
        "model_name = 'aubmindlab/bert-base-arabertv02'\n",
        "arabert_prep = ArabertPreprocessor(model_name)"
      ],
      "execution_count": 72,
      "outputs": []
    },
    {
      "cell_type": "markdown",
      "source": [
        "**Question 5:** Apply preprocessing for the text column using the arabert preprocessor:"
      ],
      "metadata": {
        "id": "RWKdP_IN1UpM"
      }
    },
    {
      "cell_type": "code",
      "metadata": {
        "id": "k-wo9pTC0zXT"
      },
      "source": [
        "data_train[\"text\"] = data_train[\"text\"].apply(lambda x: arabert_prep.preprocess(x))\n",
        "data_test[\"text\"] = data_test[\"text\"].apply(lambda x: arabert_prep.preprocess(x))"
      ],
      "execution_count": 73,
      "outputs": []
    },
    {
      "cell_type": "markdown",
      "source": [
        "Let's extract the label to id map:"
      ],
      "metadata": {
        "id": "GgfXN43X1gWV"
      }
    },
    {
      "cell_type": "code",
      "metadata": {
        "id": "PDikUkPn2DqE",
        "colab": {
          "base_uri": "https://localhost:8080/"
        },
        "outputId": "bb2a75b3-7fad-4e0a-ebb9-fdb0f97c284c"
      },
      "source": [
        "label_list = list(data_test[LABEL_COLUMN].unique())\n",
        "label_map = { v:index for index, v in enumerate(label_list) }\n",
        "print(label_map)"
      ],
      "execution_count": 74,
      "outputs": [
        {
          "output_type": "stream",
          "name": "stdout",
          "text": [
            "{'Negative': 0, 'Positive': 1}\n"
          ]
        }
      ]
    },
    {
      "cell_type": "markdown",
      "source": [
        "**Question 6:** Create the train and test SADataset:"
      ],
      "metadata": {
        "id": "1JfEWxXM1nDj"
      }
    },
    {
      "cell_type": "code",
      "metadata": {
        "id": "-2zr1L_31e5J"
      },
      "source": [
        "train_dataset = SADataset(\n",
        "    texts = data_train[\"text\"].tolist(),\n",
        "    labels = data_train[\"label\"].tolist(),\n",
        "    model_name = model_name,\n",
        "    max_len = max_len,\n",
        "    label_map = label_map\n",
        ")\n",
        "\n",
        "test_dataset = SADataset(\n",
        "    texts = data_test[\"text\"].tolist(),\n",
        "    labels = data_test[\"label\"].tolist(),\n",
        "    model_name = model_name,\n",
        "    max_len = max_len,\n",
        "    label_map = label_map\n",
        ")"
      ],
      "execution_count": 75,
      "outputs": []
    },
    {
      "cell_type": "markdown",
      "metadata": {
        "id": "6f0Tr_Jr4eAz"
      },
      "source": [
        "# Setup the HuggingFace trainer"
      ]
    },
    {
      "cell_type": "markdown",
      "source": [
        "We will be using the `bert-base-arabertv02` from HuggingFace models by Antoun et Al (2020). We can choose other Arabic BERT models by just changing the path here from `https://huggingface.co/models`."
      ],
      "metadata": {
        "id": "vi_EhH9CqH_N"
      }
    },
    {
      "cell_type": "code",
      "metadata": {
        "id": "FVUtKhfwiyMZ",
        "colab": {
          "base_uri": "https://localhost:8080/"
        },
        "outputId": "0a24eed3-fb7b-498f-bbbf-7a401a7e9028"
      },
      "source": [
        "from transformers import AutoModelForSequenceClassification\n",
        "model = AutoModelForSequenceClassification.from_pretrained(model_name, return_dict=True, num_labels=len(label_map))"
      ],
      "execution_count": 76,
      "outputs": [
        {
          "output_type": "stream",
          "name": "stderr",
          "text": [
            "Some weights of BertForSequenceClassification were not initialized from the model checkpoint at aubmindlab/bert-base-arabertv02 and are newly initialized: ['classifier.weight', 'classifier.bias']\n",
            "You should probably TRAIN this model on a down-stream task to be able to use it for predictions and inference.\n"
          ]
        }
      ]
    },
    {
      "cell_type": "markdown",
      "source": [
        "We can now set up the training arguments, you can more information from https://huggingface.co/transformers/main_classes/trainer.html#trainingarguments"
      ],
      "metadata": {
        "id": "UbLm8trS2NTg"
      }
    },
    {
      "cell_type": "code",
      "metadata": {
        "id": "1BtOuUXX4JD0"
      },
      "source": [
        "from transformers import Trainer , TrainingArguments\n",
        "\n",
        "training_args = TrainingArguments(\n",
        "    output_dir= \"./train\",\n",
        "    adam_epsilon = 1e-8,\n",
        "    learning_rate = 5e-5,\n",
        "    fp16 = True,\n",
        "    per_device_train_batch_size = 16,\n",
        "    per_device_eval_batch_size = 16,\n",
        "    gradient_accumulation_steps = 2,\n",
        "    num_train_epochs= 4,\n",
        "    do_eval = True,\n",
        "    evaluation_strategy = 'epoch',\n",
        "    save_strategy = 'epoch',\n",
        "    load_best_model_at_end = True,\n",
        "    metric_for_best_model = 'eval_macro_f1',\n",
        "    greater_is_better = True,\n",
        "    seed = 42\n",
        "  )"
      ],
      "execution_count": 77,
      "outputs": []
    },
    {
      "cell_type": "code",
      "metadata": {
        "id": "QQ0Kxrs46QI9",
        "colab": {
          "base_uri": "https://localhost:8080/"
        },
        "outputId": "d4893e9d-43ad-427d-9983-95c9fe1159dc"
      },
      "source": [
        "training_args.__dict__"
      ],
      "execution_count": 78,
      "outputs": [
        {
          "output_type": "execute_result",
          "data": {
            "text/plain": [
              "{'output_dir': './train',\n",
              " 'overwrite_output_dir': False,\n",
              " 'do_train': False,\n",
              " 'do_eval': True,\n",
              " 'do_predict': False,\n",
              " 'evaluation_strategy': <IntervalStrategy.EPOCH: 'epoch'>,\n",
              " 'prediction_loss_only': False,\n",
              " 'per_device_train_batch_size': 16,\n",
              " 'per_device_eval_batch_size': 16,\n",
              " 'per_gpu_train_batch_size': None,\n",
              " 'per_gpu_eval_batch_size': None,\n",
              " 'gradient_accumulation_steps': 2,\n",
              " 'eval_accumulation_steps': None,\n",
              " 'eval_delay': 0,\n",
              " 'learning_rate': 5e-05,\n",
              " 'weight_decay': 0.0,\n",
              " 'adam_beta1': 0.9,\n",
              " 'adam_beta2': 0.999,\n",
              " 'adam_epsilon': 1e-08,\n",
              " 'max_grad_norm': 1.0,\n",
              " 'num_train_epochs': 4,\n",
              " 'max_steps': -1,\n",
              " 'lr_scheduler_type': <SchedulerType.LINEAR: 'linear'>,\n",
              " 'warmup_ratio': 0.0,\n",
              " 'warmup_steps': 0,\n",
              " 'log_level': 'passive',\n",
              " 'log_level_replica': 'warning',\n",
              " 'log_on_each_node': True,\n",
              " 'logging_dir': './train/runs/Dec28_11-26-45_6eca16a5913b',\n",
              " 'logging_strategy': <IntervalStrategy.STEPS: 'steps'>,\n",
              " 'logging_first_step': False,\n",
              " 'logging_steps': 500,\n",
              " 'logging_nan_inf_filter': True,\n",
              " 'save_strategy': <IntervalStrategy.EPOCH: 'epoch'>,\n",
              " 'save_steps': 500,\n",
              " 'save_total_limit': None,\n",
              " 'save_safetensors': True,\n",
              " 'save_on_each_node': False,\n",
              " 'no_cuda': False,\n",
              " 'use_cpu': False,\n",
              " 'use_mps_device': False,\n",
              " 'seed': 42,\n",
              " 'data_seed': None,\n",
              " 'jit_mode_eval': False,\n",
              " 'use_ipex': False,\n",
              " 'bf16': False,\n",
              " 'fp16': True,\n",
              " 'fp16_opt_level': 'O1',\n",
              " 'half_precision_backend': 'auto',\n",
              " 'bf16_full_eval': False,\n",
              " 'fp16_full_eval': False,\n",
              " 'tf32': None,\n",
              " 'local_rank': 0,\n",
              " 'ddp_backend': None,\n",
              " 'tpu_num_cores': None,\n",
              " 'tpu_metrics_debug': False,\n",
              " 'debug': [],\n",
              " 'dataloader_drop_last': False,\n",
              " 'eval_steps': None,\n",
              " 'dataloader_num_workers': 0,\n",
              " 'past_index': -1,\n",
              " 'run_name': './train',\n",
              " 'disable_tqdm': False,\n",
              " 'remove_unused_columns': True,\n",
              " 'label_names': None,\n",
              " 'load_best_model_at_end': True,\n",
              " 'metric_for_best_model': 'eval_macro_f1',\n",
              " 'greater_is_better': True,\n",
              " 'ignore_data_skip': False,\n",
              " 'fsdp': [],\n",
              " 'fsdp_min_num_params': 0,\n",
              " 'fsdp_config': {'min_num_params': 0,\n",
              "  'xla': False,\n",
              "  'xla_fsdp_grad_ckpt': False},\n",
              " 'fsdp_transformer_layer_cls_to_wrap': None,\n",
              " 'deepspeed': None,\n",
              " 'label_smoothing_factor': 0.0,\n",
              " 'optim': <OptimizerNames.ADAMW_TORCH: 'adamw_torch'>,\n",
              " 'optim_args': None,\n",
              " 'adafactor': False,\n",
              " 'group_by_length': False,\n",
              " 'length_column_name': 'length',\n",
              " 'report_to': ['tensorboard'],\n",
              " 'ddp_find_unused_parameters': None,\n",
              " 'ddp_bucket_cap_mb': None,\n",
              " 'ddp_broadcast_buffers': None,\n",
              " 'dataloader_pin_memory': True,\n",
              " 'skip_memory_metrics': True,\n",
              " 'use_legacy_prediction_loop': False,\n",
              " 'push_to_hub': False,\n",
              " 'resume_from_checkpoint': None,\n",
              " 'hub_model_id': None,\n",
              " 'hub_strategy': <HubStrategy.EVERY_SAVE: 'every_save'>,\n",
              " 'hub_token': None,\n",
              " 'hub_private_repo': False,\n",
              " 'hub_always_push': False,\n",
              " 'gradient_checkpointing': False,\n",
              " 'gradient_checkpointing_kwargs': None,\n",
              " 'include_inputs_for_metrics': False,\n",
              " 'fp16_backend': 'auto',\n",
              " 'push_to_hub_model_id': None,\n",
              " 'push_to_hub_organization': None,\n",
              " 'push_to_hub_token': None,\n",
              " 'mp_parameters': '',\n",
              " 'auto_find_batch_size': False,\n",
              " 'full_determinism': False,\n",
              " 'torchdynamo': None,\n",
              " 'ray_scope': 'last',\n",
              " 'ddp_timeout': 1800,\n",
              " 'torch_compile': False,\n",
              " 'torch_compile_backend': None,\n",
              " 'torch_compile_mode': None,\n",
              " 'dispatch_batches': None,\n",
              " 'split_batches': False,\n",
              " 'include_tokens_per_second': False,\n",
              " 'neftune_noise_alpha': None,\n",
              " 'distributed_state': Distributed environment: NO\n",
              " Num processes: 1\n",
              " Process index: 0\n",
              " Local process index: 0\n",
              " Device: cuda,\n",
              " '_n_gpu': 1,\n",
              " '__cached__setup_devices': device(type='cuda', index=0),\n",
              " 'deepspeed_plugin': None}"
            ]
          },
          "metadata": {},
          "execution_count": 78
        }
      ]
    },
    {
      "cell_type": "markdown",
      "source": [
        "**Question:** Initialize the Trainer and start training:"
      ],
      "metadata": {
        "id": "C7UNtb2J3b8F"
      }
    },
    {
      "cell_type": "code",
      "metadata": {
        "id": "lxuG93Aj5iiA",
        "colab": {
          "base_uri": "https://localhost:8080/",
          "height": 542
        },
        "outputId": "1862755b-ffca-418c-b061-5137d9182792"
      },
      "source": [
        "trainer = Trainer(\n",
        "    model = model,\n",
        "    args = training_args,\n",
        "    train_dataset = train_dataset,\n",
        "    eval_dataset = test_dataset,\n",
        "    compute_metrics = compute_metrics\n",
        ")\n",
        "\n",
        "trainer.train()"
      ],
      "execution_count": 79,
      "outputs": [
        {
          "output_type": "display_data",
          "data": {
            "text/plain": [
              "<IPython.core.display.HTML object>"
            ],
            "text/html": [
              "\n",
              "    <div>\n",
              "      \n",
              "      <progress value='180' max='180' style='width:300px; height:20px; vertical-align: middle;'></progress>\n",
              "      [180/180 01:48, Epoch 4/4]\n",
              "    </div>\n",
              "    <table border=\"1\" class=\"dataframe\">\n",
              "  <thead>\n",
              " <tr style=\"text-align: left;\">\n",
              "      <th>Epoch</th>\n",
              "      <th>Training Loss</th>\n",
              "      <th>Validation Loss</th>\n",
              "      <th>Macro F1</th>\n",
              "      <th>Macro F1 Pos Neg</th>\n",
              "      <th>Macro Precision</th>\n",
              "      <th>Macro Recall</th>\n",
              "      <th>Accuracy</th>\n",
              "    </tr>\n",
              "  </thead>\n",
              "  <tbody>\n",
              "    <tr>\n",
              "      <td>1</td>\n",
              "      <td>No log</td>\n",
              "      <td>0.193956</td>\n",
              "      <td>0.938796</td>\n",
              "      <td>0.000000</td>\n",
              "      <td>0.938702</td>\n",
              "      <td>0.940988</td>\n",
              "      <td>0.938889</td>\n",
              "    </tr>\n",
              "    <tr>\n",
              "      <td>2</td>\n",
              "      <td>No log</td>\n",
              "      <td>0.170179</td>\n",
              "      <td>0.947104</td>\n",
              "      <td>0.000000</td>\n",
              "      <td>0.946640</td>\n",
              "      <td>0.948761</td>\n",
              "      <td>0.947222</td>\n",
              "    </tr>\n",
              "    <tr>\n",
              "      <td>3</td>\n",
              "      <td>No log</td>\n",
              "      <td>0.169567</td>\n",
              "      <td>0.949845</td>\n",
              "      <td>0.000000</td>\n",
              "      <td>0.949275</td>\n",
              "      <td>0.950948</td>\n",
              "      <td>0.950000</td>\n",
              "    </tr>\n",
              "    <tr>\n",
              "      <td>4</td>\n",
              "      <td>No log</td>\n",
              "      <td>0.158066</td>\n",
              "      <td>0.963685</td>\n",
              "      <td>0.000000</td>\n",
              "      <td>0.963886</td>\n",
              "      <td>0.963498</td>\n",
              "      <td>0.963889</td>\n",
              "    </tr>\n",
              "  </tbody>\n",
              "</table><p>"
            ]
          },
          "metadata": {}
        },
        {
          "output_type": "stream",
          "name": "stderr",
          "text": [
            "/usr/local/lib/python3.10/dist-packages/numpy/lib/arraysetops.py:608: FutureWarning: elementwise comparison failed; returning scalar instead, but in the future will perform elementwise comparison\n",
            "  mask &= (ar1 != a)\n",
            "/usr/local/lib/python3.10/dist-packages/sklearn/metrics/_classification.py:1609: UndefinedMetricWarning: F-score is ill-defined and being set to 0.0 in labels with no true nor predicted samples. Use `zero_division` parameter to control this behavior.\n",
            "  _warn_prf(average, \"true nor predicted\", \"F-score is\", len(true_sum))\n",
            "/usr/local/lib/python3.10/dist-packages/numpy/lib/arraysetops.py:608: FutureWarning: elementwise comparison failed; returning scalar instead, but in the future will perform elementwise comparison\n",
            "  mask &= (ar1 != a)\n",
            "/usr/local/lib/python3.10/dist-packages/sklearn/metrics/_classification.py:1609: UndefinedMetricWarning: F-score is ill-defined and being set to 0.0 in labels with no true nor predicted samples. Use `zero_division` parameter to control this behavior.\n",
            "  _warn_prf(average, \"true nor predicted\", \"F-score is\", len(true_sum))\n",
            "/usr/local/lib/python3.10/dist-packages/numpy/lib/arraysetops.py:608: FutureWarning: elementwise comparison failed; returning scalar instead, but in the future will perform elementwise comparison\n",
            "  mask &= (ar1 != a)\n",
            "/usr/local/lib/python3.10/dist-packages/sklearn/metrics/_classification.py:1609: UndefinedMetricWarning: F-score is ill-defined and being set to 0.0 in labels with no true nor predicted samples. Use `zero_division` parameter to control this behavior.\n",
            "  _warn_prf(average, \"true nor predicted\", \"F-score is\", len(true_sum))\n",
            "/usr/local/lib/python3.10/dist-packages/numpy/lib/arraysetops.py:608: FutureWarning: elementwise comparison failed; returning scalar instead, but in the future will perform elementwise comparison\n",
            "  mask &= (ar1 != a)\n",
            "/usr/local/lib/python3.10/dist-packages/sklearn/metrics/_classification.py:1609: UndefinedMetricWarning: F-score is ill-defined and being set to 0.0 in labels with no true nor predicted samples. Use `zero_division` parameter to control this behavior.\n",
            "  _warn_prf(average, \"true nor predicted\", \"F-score is\", len(true_sum))\n"
          ]
        },
        {
          "output_type": "execute_result",
          "data": {
            "text/plain": [
              "TrainOutput(global_step=180, training_loss=0.14014109505547417, metrics={'train_runtime': 108.5388, 'train_samples_per_second': 53.069, 'train_steps_per_second': 1.658, 'total_flos': 423279910310400.0, 'train_loss': 0.14014109505547417, 'epoch': 4.0})"
            ]
          },
          "metadata": {},
          "execution_count": 79
        }
      ]
    },
    {
      "cell_type": "markdown",
      "metadata": {
        "id": "nvxxCSpI-yGG"
      },
      "source": [
        "#  Saving the best model"
      ]
    },
    {
      "cell_type": "markdown",
      "source": [
        "Before saving the model, let's change the label2id in the config file, and get the id to label map."
      ],
      "metadata": {
        "id": "qma6qGK1-6rj"
      }
    },
    {
      "cell_type": "code",
      "metadata": {
        "id": "NPCX0NUt51wS"
      },
      "source": [
        "trainer.model.config.label2id = label_map\n",
        "inv_label_map = { v:k for k, v in label_map.items()}\n",
        "trainer.model.config.id2label = inv_label_map"
      ],
      "execution_count": 80,
      "outputs": []
    },
    {
      "cell_type": "code",
      "metadata": {
        "id": "B1UFwVNs-6Dk",
        "colab": {
          "base_uri": "https://localhost:8080/"
        },
        "outputId": "ddaa1c38-ac98-4e7f-d894-8ea949388a52"
      },
      "source": [
        "#save the model in the folder\n",
        "trainer.save_model(\"best_sa_model\")\n",
        "test_dataset.tokenizer.save_pretrained(\"best_sa_model\")"
      ],
      "execution_count": 81,
      "outputs": [
        {
          "output_type": "execute_result",
          "data": {
            "text/plain": [
              "('best_sa_model/tokenizer_config.json',\n",
              " 'best_sa_model/special_tokens_map.json',\n",
              " 'best_sa_model/vocab.txt',\n",
              " 'best_sa_model/added_tokens.json',\n",
              " 'best_sa_model/tokenizer.json')"
            ]
          },
          "metadata": {},
          "execution_count": 81
        }
      ]
    },
    {
      "cell_type": "markdown",
      "metadata": {
        "id": "422JyvSi_n0d"
      },
      "source": [
        "# Loading the model for inference\n",
        "We can use HuggingFace pipelines to load the model for inference:"
      ]
    },
    {
      "cell_type": "code",
      "metadata": {
        "id": "OzTSG6cp_g36"
      },
      "source": [
        "from transformers import pipeline\n",
        "pipe = pipeline(\n",
        "        \"sentiment-analysis\",\n",
        "        model = \"best_sa_model\",\n",
        "        device=0, # set device to 0 for CUDA\n",
        "        )"
      ],
      "execution_count": 82,
      "outputs": []
    },
    {
      "cell_type": "code",
      "metadata": {
        "id": "8aJegKHL_zjk",
        "colab": {
          "base_uri": "https://localhost:8080/"
        },
        "outputId": "74169e1b-0d5c-4e4c-88de-893ca0c4b19b"
      },
      "source": [
        "pipe(\"انا لا احبك\")"
      ],
      "execution_count": 83,
      "outputs": [
        {
          "output_type": "execute_result",
          "data": {
            "text/plain": [
              "[{'label': 'Negative', 'score': 0.9814018607139587}]"
            ]
          },
          "metadata": {},
          "execution_count": 83
        }
      ]
    },
    {
      "cell_type": "code",
      "source": [
        "pipe(\"انا احبك\")"
      ],
      "metadata": {
        "id": "5Sl3tW71-v92",
        "colab": {
          "base_uri": "https://localhost:8080/"
        },
        "outputId": "3715f791-5c05-4b33-fbfb-25ea0318e392"
      },
      "execution_count": 84,
      "outputs": [
        {
          "output_type": "execute_result",
          "data": {
            "text/plain": [
              "[{'label': 'Positive', 'score': 0.9966804385185242}]"
            ]
          },
          "metadata": {},
          "execution_count": 84
        }
      ]
    }
  ]
}